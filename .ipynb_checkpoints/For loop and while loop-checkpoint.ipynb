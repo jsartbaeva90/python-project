{
 "cells": [
  {
   "cell_type": "code",
   "execution_count": null,
   "metadata": {},
   "outputs": [],
   "source": [
    "users = ['Abdul', 'Nodira', 'Zhanna']\n",
    "\n",
    "# for user in users:\n",
    "#   print(user)\n",
    "\n",
    "for item in range(0, 3):\n",
    "    print('Hello')"
   ]
  },
  {
   "cell_type": "code",
   "execution_count": null,
   "metadata": {},
   "outputs": [],
   "source": [
    "users = ['Abdul', 'Nodira', 'Zhanna']\n",
    "\n",
    "data = [\n",
    "    {\n",
    "    \"avatar\": \"https://s3.amazonaws.com/uifaces/faces/twitter/marcoramires/128.jpg\",\n",
    "    \"first_name\": \"Eve\",\n",
    "    \"id\": 4,\n",
    "    \"last_name\": \"Holt\"\n",
    "    },\n",
    "    {\n",
    "    \"avatar\": \"https://s3.amazonaws.com/uifaces/faces/twitter/stephenmoon/128.jpg\",\n",
    "    \"first_name\": \"Charles\",\n",
    "    \"id\": 5,\n",
    "    \"last_name\": \"Morris\"\n",
    "    },\n",
    "    {\n",
    "    \"avatar\": \"https://s3.amazonaws.com/uifaces/faces/twitter/bigmancho/128.jpg\",\n",
    "    \"first_name\": \"Tracey\",\n",
    "    \"id\": 6,\n",
    "    \"last_name\": \"Ramos\"\n",
    "    }\n",
    "]\n",
    "\n",
    "print(data[2])"
   ]
  },
  {
   "cell_type": "code",
   "execution_count": null,
   "metadata": {},
   "outputs": [],
   "source": [
    "users = ['Abdul', 'Nodira', 'Zhanna']\n",
    "\n",
    "data = [\n",
    "    {\n",
    "    \"avatar\": \"https://s3.amazonaws.com/uifaces/faces/twitter/marcoramires/128.jpg\",\n",
    "    \"first_name\": \"Eve\",\n",
    "    \"id\": 4,\n",
    "    \"last_name\": \"Holt\"\n",
    "    },\n",
    "    {\n",
    "    \"avatar\": \"https://s3.amazonaws.com/uifaces/faces/twitter/stephenmoon/128.jpg\",\n",
    "    \"first_name\": \"Charles\",\n",
    "    \"id\": 5,\n",
    "    \"last_name\": \"Morris\"\n",
    "    },\n",
    "    {\n",
    "    \"avatar\": \"https://s3.amazonaws.com/uifaces/faces/twitter/bigmancho/128.jpg\",\n",
    "    \"first_name\": \"Tracey\",\n",
    "    \"id\": 6,\n",
    "    \"last_name\": \"Ramos\"\n",
    "    }\n",
    "]\n",
    "for user in data:\n",
    "    if user['first_name'] == 'Charles':\n",
    "        print(user)"
   ]
  },
  {
   "cell_type": "code",
   "execution_count": null,
   "metadata": {},
   "outputs": [],
   "source": [
    "users = ['Abdul', 'Nodira', 'Zhanna']\n",
    "\n",
    "data = [\n",
    "    {\n",
    "    \"avatar\": \"https://s3.amazonaws.com/uifaces/faces/twitter/marcoramires/128.jpg\",\n",
    "    \"first_name\": \"Eve\",\n",
    "    \"id\": 4,\n",
    "    \"last_name\": \"Holt\"\n",
    "    },\n",
    "    {\n",
    "    \"avatar\": \"https://s3.amazonaws.com/uifaces/faces/twitter/stephenmoon/128.jpg\",\n",
    "    \"first_name\": \"Charles\",\n",
    "    \"id\": 5,\n",
    "    \"last_name\": \"Morris\"\n",
    "    },\n",
    "    {\n",
    "    \"avatar\": \"https://s3.amazonaws.com/uifaces/faces/twitter/bigmancho/128.jpg\",\n",
    "    \"first_name\": \"Tracey\",\n",
    "    \"id\": 6,\n",
    "    \"last_name\": \"Ramos\"\n",
    "    }\n",
    "]\n",
    "\n",
    "while True:\n",
    "    print('Hello')\n",
    "    break\n",
    "    "
   ]
  },
  {
   "cell_type": "code",
   "execution_count": 1,
   "metadata": {},
   "outputs": [
    {
     "name": "stdout",
     "output_type": "stream",
     "text": [
      "This is my string\n",
      "T\n",
      "h\n",
      "i\n",
      "s\n",
      " \n",
      "i\n",
      "s\n",
      " \n",
      "m\n",
      "y\n",
      " \n",
      "s\n",
      "t\n",
      "r\n",
      "i\n",
      "n\n",
      "g\n"
     ]
    }
   ],
   "source": [
    "users = ['Abdul', 'Nodira', 'Zhanna']\n",
    "\n",
    "data = [\n",
    "    {\n",
    "    \"avatar\": \"https://s3.amazonaws.com/uifaces/faces/twitter/marcoramires/128.jpg\",\n",
    "    \"first_name\": \"Eve\",\n",
    "    \"id\": 4,\n",
    "    \"last_name\": \"Holt\"\n",
    "    },\n",
    "    {\n",
    "    \"avatar\": \"https://s3.amazonaws.com/uifaces/faces/twitter/stephenmoon/128.jpg\",\n",
    "    \"first_name\": \"Charles\",\n",
    "    \"id\": 5,\n",
    "    \"last_name\": \"Morris\"\n",
    "    },\n",
    "    {\n",
    "    \"avatar\": \"https://s3.amazonaws.com/uifaces/faces/twitter/bigmancho/128.jpg\",\n",
    "    \"first_name\": \"Tracey\",\n",
    "    \"id\": 6,\n",
    "    \"last_name\": \"Ramos\"\n",
    "    }\n",
    "]\n",
    "\n",
    "my_string = 'This is my string'\n",
    "print(my_string)\n",
    "\n",
    "for item in my_string:\n",
    "    print(item)"
   ]
  },
  {
   "cell_type": "code",
   "execution_count": 2,
   "metadata": {},
   "outputs": [
    {
     "name": "stdout",
     "output_type": "stream",
     "text": [
      "This is my string\n",
      "T\n",
      "h\n",
      "i\n",
      "s\n",
      " \n",
      "i\n",
      "s\n",
      " \n",
      "m\n",
      "y\n",
      " \n",
      "s\n",
      "t\n",
      "r\n",
      "i\n",
      "n\n",
      "g\n",
      "Yes it is\n"
     ]
    }
   ],
   "source": [
    "users = ['Abdul', 'Nodira', 'Zhanna']\n",
    "\n",
    "data = [\n",
    "    {\n",
    "    \"avatar\": \"https://s3.amazonaws.com/uifaces/faces/twitter/marcoramires/128.jpg\",\n",
    "    \"first_name\": \"Eve\",\n",
    "    \"id\": 4,\n",
    "    \"last_name\": \"Holt\"\n",
    "    },\n",
    "    {\n",
    "    \"avatar\": \"https://s3.amazonaws.com/uifaces/faces/twitter/stephenmoon/128.jpg\",\n",
    "    \"first_name\": \"Charles\",\n",
    "    \"id\": 5,\n",
    "    \"last_name\": \"Morris\"\n",
    "    },\n",
    "    {\n",
    "    \"avatar\": \"https://s3.amazonaws.com/uifaces/faces/twitter/bigmancho/128.jpg\",\n",
    "    \"first_name\": \"Tracey\",\n",
    "    \"id\": 6,\n",
    "    \"last_name\": \"Ramos\"\n",
    "    }\n",
    "]\n",
    "\n",
    "my_string = 'This is my string'\n",
    "print(my_string)\n",
    "\n",
    "for item in my_string:\n",
    "    print(item)\n",
    "\n",
    "if 'This' in my_string:\n",
    "    print('Yes it is')"
   ]
  },
  {
   "cell_type": "code",
   "execution_count": 5,
   "metadata": {},
   "outputs": [
    {
     "name": "stdout",
     "output_type": "stream",
     "text": [
      "This is my string\n",
      "Yes it is\n",
      "Yes it is\n"
     ]
    }
   ],
   "source": [
    "users = ['Abdul', 'Nodira', 'Zhanna']\n",
    "\n",
    "data = [\n",
    "    {\n",
    "    \"avatar\": \"https://s3.amazonaws.com/uifaces/faces/twitter/marcoramires/128.jpg\",\n",
    "    \"first_name\": \"Eve\",\n",
    "    \"id\": 4,\n",
    "    \"last_name\": \"Holt\"\n",
    "    },\n",
    "    {\n",
    "    \"avatar\": \"https://s3.amazonaws.com/uifaces/faces/twitter/stephenmoon/128.jpg\",\n",
    "    \"first_name\": \"Charles\",\n",
    "    \"id\": 5,\n",
    "    \"last_name\": \"Morris\"\n",
    "    },\n",
    "    {\n",
    "    \"avatar\": \"https://s3.amazonaws.com/uifaces/faces/twitter/bigmancho/128.jpg\",\n",
    "    \"first_name\": \"Tracey\",\n",
    "    \"id\": 6,\n",
    "    \"last_name\": \"Ramos\"\n",
    "    }\n",
    "]\n",
    "\n",
    "my_string = 'This is my string'\n",
    "print(my_string)\n",
    "\n",
    "for item in my_string.split(' '):\n",
    "    if 'This' == item:\n",
    "        print('Yes it is')\n",
    "    \n",
    "if 'This' in my_string:\n",
    "    print('Yes it is')"
   ]
  },
  {
   "cell_type": "code",
   "execution_count": 3,
   "metadata": {},
   "outputs": [
    {
     "ename": "SyntaxError",
     "evalue": "invalid syntax (<ipython-input-3-497178cd1135>, line 2)",
     "output_type": "error",
     "traceback": [
      "\u001b[0;36m  File \u001b[0;32m\"<ipython-input-3-497178cd1135>\"\u001b[0;36m, line \u001b[0;32m2\u001b[0m\n\u001b[0;31m    if 'Farkhod' == user['first_name']\u001b[0m\n\u001b[0m                                      ^\u001b[0m\n\u001b[0;31mSyntaxError\u001b[0m\u001b[0;31m:\u001b[0m invalid syntax\n"
     ]
    }
   ],
   "source": [
    "for user in data:\n",
    "    if 'Farkhod' == user['first_name']\n",
    "        print('User found')\n",
    "else:\n",
    "    print('User can not found')"
   ]
  },
  {
   "cell_type": "code",
   "execution_count": 4,
   "metadata": {},
   "outputs": [
    {
     "name": "stdout",
     "output_type": "stream",
     "text": [
      "########################################################\n",
      "##abdulsharif\n",
      "Python\n",
      "Jenkins\n",
      "Ansible\n"
     ]
    }
   ],
   "source": [
    "student = {'username' : 'abdulsharif',\n",
    "           'password' : 'redhat',\n",
    "           'classes' : ['Python', 'Jenkins', 'Ansible']}\n",
    "print('########################################################')\n",
    "print(f'##{student[\"username\"]}')\n",
    "for item in student['classes']:\n",
    "      print(item)"
   ]
  },
  {
   "cell_type": "code",
   "execution_count": 3,
   "metadata": {},
   "outputs": [
    {
     "name": "stdout",
     "output_type": "stream",
     "text": [
      "Please enter Full Name :Zhazgul Sartbaeva\n",
      "Please enter username :jsartbaeva90\n",
      "Please enter password :230390zh\n"
     ]
    },
    {
     "ename": "NameError",
     "evalue": "name 'dataBase' is not defined",
     "output_type": "error",
     "traceback": [
      "\u001b[0;31m---------------------------------------------------------------------------\u001b[0m",
      "\u001b[0;31mNameError\u001b[0m                                 Traceback (most recent call last)",
      "\u001b[0;32m<ipython-input-3-96c0f680300b>\u001b[0m in \u001b[0;36m<module>\u001b[0;34m\u001b[0m\n\u001b[1;32m      5\u001b[0m     \u001b[0mstudentObject\u001b[0m\u001b[0;34m[\u001b[0m\u001b[0;34m'username'\u001b[0m\u001b[0;34m]\u001b[0m \u001b[0;34m=\u001b[0m \u001b[0minput\u001b[0m\u001b[0;34m(\u001b[0m\u001b[0;34m'Please enter username :'\u001b[0m\u001b[0;34m)\u001b[0m\u001b[0;34m\u001b[0m\u001b[0m\n\u001b[1;32m      6\u001b[0m     \u001b[0mstudentObject\u001b[0m\u001b[0;34m[\u001b[0m\u001b[0;34m'password'\u001b[0m\u001b[0;34m]\u001b[0m \u001b[0;34m=\u001b[0m \u001b[0minput\u001b[0m\u001b[0;34m(\u001b[0m\u001b[0;34m'Please enter password :'\u001b[0m\u001b[0;34m)\u001b[0m\u001b[0;34m\u001b[0m\u001b[0m\n\u001b[0;32m----> 7\u001b[0;31m     \u001b[0mdataBase\u001b[0m\u001b[0;34m.\u001b[0m\u001b[0mappend\u001b[0m\u001b[0;34m(\u001b[0m\u001b[0mstudentObject\u001b[0m\u001b[0;34m)\u001b[0m\u001b[0;34m\u001b[0m\u001b[0m\n\u001b[0m\u001b[1;32m      8\u001b[0m     \u001b[0mprint\u001b[0m\u001b[0;34m(\u001b[0m\u001b[0;34m'User has been created!'\u001b[0m\u001b[0;34m)\u001b[0m\u001b[0;34m\u001b[0m\u001b[0m\n\u001b[1;32m      9\u001b[0m     \u001b[0manswer\u001b[0m \u001b[0;34m=\u001b[0m \u001b[0minput\u001b[0m\u001b[0;34m(\u001b[0m\u001b[0;34m'Do you want to stop it yes/no:'\u001b[0m\u001b[0;34m)\u001b[0m\u001b[0;34m\u001b[0m\u001b[0m\n",
      "\u001b[0;31mNameError\u001b[0m: name 'dataBase' is not defined"
     ]
    }
   ],
   "source": [
    "registeredUsers = []\n",
    "while True:\n",
    "    studentObject = {}\n",
    "    studentObject['full_name'] = input('Please enter Full Name :')\n",
    "    studentObject['username'] = input('Please enter username :')\n",
    "    studentObject['password'] = input('Please enter password :')\n",
    "    dataBase.append(studentObject)\n",
    "    print('User has been created!')\n",
    "    answer = input('Do you want to stop it yes/no:')\n",
    "    if answer == 'yes' :\n",
    "        print('Bye !!!')\n",
    "        break"
   ]
  },
  {
   "cell_type": "code",
   "execution_count": 4,
   "metadata": {},
   "outputs": [
    {
     "name": "stdout",
     "output_type": "stream",
     "text": [
      "Please enter Full Name :zhazgul sartbaeva\n",
      "Please enter username :jsartbaeva90\n",
      "Please enter password :redhat\n",
      "User has been created!\n",
      "Do you want to stop it yes/no:yes\n",
      "Bye !!!\n"
     ]
    }
   ],
   "source": [
    "dataBase = []\n",
    "import time\n",
    "yesAnswer = ['YES', 'Yes', 'y', 'YeS', 'yes']\n",
    "while True:\n",
    "    studentObject = {}\n",
    "    studentObject['full_name'] = input('Please enter Full Name :').capitalize()\n",
    "    studentObject['username'] = input('Please enter username :').lower()\n",
    "    studentObject['password'] = input('Please enter password :')\n",
    "    time.sleep(2)\n",
    "    dataBase.append(studentObject)\n",
    "    print('User has been created!')\n",
    "    answer = input('Do you want to stop it yes/no:')\n",
    "    if answer in yesAnswer:\n",
    "        print('Bye !!!')\n",
    "        break\n"
   ]
  },
  {
   "cell_type": "code",
   "execution_count": null,
   "metadata": {},
   "outputs": [],
   "source": []
  }
 ],
 "metadata": {
  "kernelspec": {
   "display_name": "Python 3",
   "language": "python",
   "name": "python3"
  },
  "language_info": {
   "codemirror_mode": {
    "name": "ipython",
    "version": 3
   },
   "file_extension": ".py",
   "mimetype": "text/x-python",
   "name": "python",
   "nbconvert_exporter": "python",
   "pygments_lexer": "ipython3",
   "version": "3.6.5"
  }
 },
 "nbformat": 4,
 "nbformat_minor": 2
}
