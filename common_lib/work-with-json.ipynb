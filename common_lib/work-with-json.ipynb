{
 "cells": [
  {
   "cell_type": "code",
   "execution_count": 4,
   "metadata": {},
   "outputs": [],
   "source": [
    "import json\n",
    "\n",
    "with open('data.json') as example_json:\n",
    "    data = json.load(example_json)"
   ]
  },
  {
   "cell_type": "markdown",
   "metadata": {},
   "source": [
    "## Working with Functions and JSON data\n",
    "1. create function call print_my_data\n",
    " 1.Fuction should take argument integer\n",
    " 2.Function should iterate the all data\n",
    " 3.Print the data\n",
    "\n",
    "2. create function which will ask from user repo name\n",
    " 1.Input from user reponame\n",
    " 2.Look for the repo from data\n",
    " 3.As soon as function found should print reponame\n",
    " \n",
    "3. create a function call does_repo_exist\n",
    " 1.Function take argument repo_name\n",
    " 2.Iterate the all data\n",
    " 3.check for each data\n",
    " 4.If data matches with repo_name print the data\n"
   ]
  },
  {
   "cell_type": "code",
   "execution_count": null,
   "metadata": {},
   "outputs": [],
   "source": [
    "def print_my_data(integer):\n",
    "    print(data['items'][integer])\n",
    "    \n",
    "print_my_data(2)"
   ]
  },
  {
   "cell_type": "code",
   "execution_count": null,
   "metadata": {},
   "outputs": [],
   "source": [
    "def find_repo():\n",
    "    reponame = input('Please enter the reponame? :')\n",
    "    for repo in data['items']:\n",
    "        if reponame == repo['name']:\n",
    "            print(repo['name'])"
   ]
  },
  {
   "cell_type": "code",
   "execution_count": null,
   "metadata": {},
   "outputs": [],
   "source": [
    "find_repo()"
   ]
  },
  {
   "cell_type": "code",
   "execution_count": null,
   "metadata": {},
   "outputs": [],
   "source": [
    "def does_repo_exist(repo_name):\n",
    "    for repo in data['items']:\n",
    "        if repo_name == repo['name']:\n",
    "            print(repo)\n",
    "            break\n",
    "    else:\n",
    "        print('Repo not found')"
   ]
  },
  {
   "cell_type": "code",
   "execution_count": null,
   "metadata": {},
   "outputs": [],
   "source": [
    "does_repo_exist('webplatform-qa')"
   ]
  },
  {
   "cell_type": "code",
   "execution_count": null,
   "metadata": {},
   "outputs": [],
   "source": [
    "my_user_list = []\n",
    "for user_num in range(1,10):\n",
    "    my_user_list.append({'username': f'user-{user_num}', \n",
    "                         \"password\": None, \n",
    "                         \"status\": False})"
   ]
  },
  {
   "cell_type": "code",
   "execution_count": null,
   "metadata": {},
   "outputs": [],
   "source": [
    "print(my_user_list)\n",
    "print"
   ]
  },
  {
   "cell_type": "code",
   "execution_count": 6,
   "metadata": {},
   "outputs": [],
   "source": [
    "my_user_list = []\n",
    "for user_num in range(1, 11):\n",
    "    my_user_list.append({\"username\": f'user-{user_num}', \n",
    "                         \"password\": None,  \n",
    "                         \"status\": False})"
   ]
  },
  {
   "cell_type": "code",
   "execution_count": 1,
   "metadata": {},
   "outputs": [
    {
     "ename": "NameError",
     "evalue": "name 'json' is not defined",
     "output_type": "error",
     "traceback": [
      "\u001b[0;31m---------------------------------------------------------------------------\u001b[0m",
      "\u001b[0;31mNameError\u001b[0m                                 Traceback (most recent call last)",
      "\u001b[0;32m<ipython-input-1-152b7f5ba23d>\u001b[0m in \u001b[0;36m<module>\u001b[0;34m\u001b[0m\n\u001b[0;32m----> 1\u001b[0;31m \u001b[0mprint\u001b[0m\u001b[0;34m(\u001b[0m\u001b[0mjson\u001b[0m\u001b[0;34m.\u001b[0m\u001b[0mdumps\u001b[0m\u001b[0;34m(\u001b[0m\u001b[0mmy_user_list\u001b[0m\u001b[0;34m,\u001b[0m \u001b[0mindent\u001b[0m\u001b[0;34m=\u001b[0m\u001b[0;36m2\u001b[0m\u001b[0;34m)\u001b[0m\u001b[0;34m)\u001b[0m\u001b[0;34m\u001b[0m\u001b[0m\n\u001b[0m",
      "\u001b[0;31mNameError\u001b[0m: name 'json' is not defined"
     ]
    }
   ],
   "source": [
    "print(json.dumps(my_user_list, indent=2))"
   ]
  },
  {
   "cell_type": "code",
   "execution_count": 7,
   "metadata": {},
   "outputs": [],
   "source": [
    "with open('user_list.json', 'w') as my_file:\n",
    "    json.dump(my_user_list, my_file, indent=2)"
   ]
  },
  {
   "cell_type": "code",
   "execution_count": null,
   "metadata": {},
   "outputs": [],
   "source": []
  }
 ],
 "metadata": {
  "kernelspec": {
   "display_name": "Python 3",
   "language": "python",
   "name": "python3"
  },
  "language_info": {
   "codemirror_mode": {
    "name": "ipython",
    "version": 3
   },
   "file_extension": ".py",
   "mimetype": "text/x-python",
   "name": "python",
   "nbconvert_exporter": "python",
   "pygments_lexer": "ipython3",
   "version": "3.6.5"
  }
 },
 "nbformat": 4,
 "nbformat_minor": 2
}
