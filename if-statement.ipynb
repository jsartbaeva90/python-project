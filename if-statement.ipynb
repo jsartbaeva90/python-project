{
 "cells": [
  {
   "cell_type": "code",
   "execution_count": null,
   "metadata": {},
   "outputs": [],
   "source": [
    "door = 'open'\n",
    "if door == 'open':\n",
    "    print('Yes, you can go!!!')"
   ]
  },
  {
   "cell_type": "code",
   "execution_count": null,
   "metadata": {},
   "outputs": [],
   "source": [
    "door = 'open'\n",
    "if door == 'open':\n",
    "    print('Yes, you can go!!!')\n",
    "elif door == 'close':\n",
    "    print('No, you can not go!!!')"
   ]
  },
  {
   "cell_type": "code",
   "execution_count": null,
   "metadata": {},
   "outputs": [],
   "source": [
    "door = 'open'\n",
    "if door == 'open':\n",
    "    print('Yes, you can go!!!')\n",
    "    \n",
    "elif door == 'close':\n",
    "    print('No, you can not go!!!')\n",
    "    \n",
    "else:\n",
    "    print('Something wrong')"
   ]
  },
  {
   "cell_type": "code",
   "execution_count": null,
   "metadata": {},
   "outputs": [],
   "source": [
    "name = input('What is your name? :')"
   ]
  },
  {
   "cell_type": "code",
   "execution_count": null,
   "metadata": {},
   "outputs": [],
   "source": [
    "print(name)"
   ]
  },
  {
   "cell_type": "code",
   "execution_count": null,
   "metadata": {},
   "outputs": [],
   "source": [
    "name = input('What is your name? :')\n",
    "print('Hello ' + name)"
   ]
  },
  {
   "cell_type": "code",
   "execution_count": null,
   "metadata": {},
   "outputs": [],
   "source": [
    "name = input('What is your name? :')\n",
    "print('Hello ' + name)"
   ]
  },
  {
   "cell_type": "code",
   "execution_count": null,
   "metadata": {},
   "outputs": [],
   "source": [
    "name = input('What is your name? :')\n",
    "\n",
    "if name == 'Anna':\n",
    "    print('Privet ' + name)\n",
    "elif name == 'zhazgul':\n",
    "    print('Salom ' + name)"
   ]
  },
  {
   "cell_type": "code",
   "execution_count": null,
   "metadata": {},
   "outputs": [],
   "source": [
    "name = input('What is your name? :')\n",
    "\n",
    "if name == 'Anna':\n",
    "    print('Privet ' + name)\n",
    "elif name == 'zhazgul':\n",
    "    print('Salom ' + name)\n",
    "else:\n",
    "    print('Hello ' + name)"
   ]
  },
  {
   "cell_type": "code",
   "execution_count": null,
   "metadata": {},
   "outputs": [],
   "source": [
    "name = input('What is your name? :')\n",
    "\n",
    "if name.capitalize() == 'Anna':\n",
    "    print('Privet ' + name)\n",
    "elif name.capitalize() == 'zhazgul':\n",
    "    print('Salom ' + name)\n",
    "else:\n",
    "    print('Hello ' + name)"
   ]
  },
  {
   "cell_type": "code",
   "execution_count": null,
   "metadata": {},
   "outputs": [],
   "source": [
    "black_list =['Abdul', 'Farkhod', 'Florin']\n",
    "student = input('What is your name? :')\n",
    "\n",
    "student = student.capitalize()\n",
    "\n",
    "if student in black_list:\n",
    "    print('Sorry you can not come in')"
   ]
  },
  {
   "cell_type": "code",
   "execution_count": null,
   "metadata": {},
   "outputs": [],
   "source": [
    "black_list =['Abdul', 'Farkhod', 'Florin']\n",
    "student = input('What is your name? :')\n",
    "\n",
    "student = student.capitalize()\n",
    "\n",
    "if student in black_list:\n",
    "    print('Sorry you can not come in')\n",
    "else:\n",
    "    print('Hello come in')"
   ]
  },
  {
   "cell_type": "code",
   "execution_count": null,
   "metadata": {},
   "outputs": [],
   "source": [
    "name = input('What is your name? :').capitalize()\n",
    "print(name)"
   ]
  },
  {
   "cell_type": "code",
   "execution_count": null,
   "metadata": {},
   "outputs": [],
   "source": [
    "name = input('What is your name? :').capitalize()\n",
    "\n",
    "year = input('What is your birthday <year>? :')"
   ]
  },
  {
   "cell_type": "code",
   "execution_count": null,
   "metadata": {},
   "outputs": [],
   "source": [
    "name = input('What is your name? :').capitalize()\n",
    "\n",
    "year = input('What is your birthday <year>? :')\n",
    "\n",
    "now = 2019\n",
    "\n",
    "age = now - year\n",
    "print(f'Your name is :{name}, Your age is :{age}')"
   ]
  },
  {
   "cell_type": "code",
   "execution_count": null,
   "metadata": {},
   "outputs": [],
   "source": [
    "door = True\n",
    "\n",
    "if door == True:\n",
    "    print('Door is open!!')\n",
    "else:\n",
    "    print('Door is close!!')\n"
   ]
  },
  {
   "cell_type": "code",
   "execution_count": null,
   "metadata": {},
   "outputs": [],
   "source": [
    "student = {\n",
    "    'first_name': 'Abdul', \n",
    "    'last_name': 'sharif', \n",
    "    'username': 'asharif',\n",
    "    'password': 'redhat',\n",
    "    'status': False,\n",
    "    'classes': ['Python', 'Terraform', 'Ansible']\n",
    "}\n",
    "\n",
    "\n",
    "print(student['classes'])"
   ]
  },
  {
   "cell_type": "code",
   "execution_count": 3,
   "metadata": {},
   "outputs": [
    {
     "name": "stdout",
     "output_type": "stream",
     "text": [
      "############################################\n",
      "###### Information about Abdul sharif) #####\n",
      "############################################\n",
      "## Username: asharif\n",
      "## Full Name: Abdul sharif\n",
      "## User can not login\n"
     ]
    }
   ],
   "source": [
    "student = {\n",
    "    'first_name': 'Abdul', \n",
    "    'last_name': 'sharif', \n",
    "    'username': 'asharif',\n",
    "    'password': 'redhat',\n",
    "    'status': False,\n",
    "    'classes': ['Python', 'Terraform', 'Ansible']\n",
    "}\n",
    "\n",
    "print('############################################')\n",
    "print(f'###### Information about {student[\"first_name\"]} {student[\"last_name\"]}) #####')\n",
    "print('############################################')\n",
    "print(f'## Username: {student[\"username\"]}')\n",
    "print(f'## Full Name: {student[\"first_name\"]} {student[\"last_name\"]}')\n",
    "if student['status']:\n",
    "      print('## User can login')\n",
    "else:\n",
    "      print('## User can not login')"
   ]
  },
  {
   "cell_type": "code",
   "execution_count": 4,
   "metadata": {},
   "outputs": [
    {
     "name": "stdout",
     "output_type": "stream",
     "text": [
      "############################################\n",
      "###### Information about Abdul sharif) #####\n",
      "############################################\n",
      "## Username: asharif\n",
      "## Full Name: Abdul sharif\n",
      "## User can not login\n",
      "## User is attends Python class\n"
     ]
    }
   ],
   "source": [
    "student = {\n",
    "    'first_name': 'Abdul', \n",
    "    'last_name': 'sharif', \n",
    "    'username': 'asharif',\n",
    "    'password': 'redhat',\n",
    "    'status': False,\n",
    "    'classes': ['Python', 'Terraform', 'Ansible']\n",
    "}\n",
    "\n",
    "print('############################################')\n",
    "print(f'###### Information about {student[\"first_name\"]} {student[\"last_name\"]}) #####')\n",
    "print('############################################')\n",
    "print(f'## Username: {student[\"username\"]}')\n",
    "print(f'## Full Name: {student[\"first_name\"]} {student[\"last_name\"]}')\n",
    "if student['status']:\n",
    "      print('## User can login')\n",
    "else:\n",
    "      print('## User can not login')\n",
    "      \n",
    "if 'Python' in student['classes']:\n",
    "    print(f'## User is attends Python class')\n",
    "      \n",
    "elif 'Terraform' in student['classes']:\n",
    "      print(f'## User is attends Terraform class')"
   ]
  },
  {
   "cell_type": "code",
   "execution_count": null,
   "metadata": {},
   "outputs": [],
   "source": []
  }
 ],
 "metadata": {
  "kernelspec": {
   "display_name": "Python 3",
   "language": "python",
   "name": "python3"
  },
  "language_info": {
   "codemirror_mode": {
    "name": "ipython",
    "version": 3
   },
   "file_extension": ".py",
   "mimetype": "text/x-python",
   "name": "python",
   "nbconvert_exporter": "python",
   "pygments_lexer": "ipython3",
   "version": "3.6.5"
  }
 },
 "nbformat": 4,
 "nbformat_minor": 2
}
